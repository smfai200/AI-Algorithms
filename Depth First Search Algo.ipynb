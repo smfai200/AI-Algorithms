{
 "cells": [
  {
   "cell_type": "code",
   "execution_count": 1,
   "metadata": {},
   "outputs": [],
   "source": [
    "pakistan = {'Abbottabad': set(['Mansehra','Haripur','Muree']),\n",
    "            'Mansehra':set(['Abbottabad','Attar Shisha','Besham']),\n",
    "            'Haripur': set(['Hassan Abdal', 'Swabi']),\n",
    "            'Muree': set(['Islamabad','Muzzafar Abad']),\n",
    "            'Attar Shisha':set(['Mansehra', 'Naran','Muzzafar Abad']),\n",
    "            'Besham':set(['Khwazakhela','Chilas']),\n",
    "            'Hassan Abdal': set(['Jehangira','Taxila']),\n",
    "            'Swabi':set(['Haripur','Jehangira']),\n",
    "            'Islamabad':set(['Muree','Rawalpindi']),\n",
    "            'Muzzafar Abad': set(['Muree','Attar Shisha']),\n",
    "            'Khwazakhela':set(['Besham','Mingora','Kalam']),\n",
    "            'Chilas':set(['Besham','Naran','Gilgit']),\n",
    "            'Jehangira':set(['Swabi','Hassan Abdal','Nowshera']),\n",
    "            'Taxila':set(['Hassan Abdal','Rawalpindi']),\n",
    "            'Rawalpindi':set(['Islamabad','Taxila']),\n",
    "            'Mingora':set(['Nowshera','Khwazakhela']),\n",
    "            'Kalam':set(['Khwazakhela']),\n",
    "            'Naran':set(['Attar Shisha','Chilas']),\n",
    "            'Gilgit':set(['Chilas']),\n",
    "            'Nowshera':set(['Peshawar','Jehangira']),\n",
    "            'Peshawar' :set(['Nowshera'])\n",
    "             \n",
    "           }"
   ]
  },
  {
   "cell_type": "code",
   "execution_count": 2,
   "metadata": {},
   "outputs": [],
   "source": [
    "goal_test = lambda x,y:True if(x==y) else False"
   ]
  },
  {
   "cell_type": "code",
   "execution_count": 3,
   "metadata": {},
   "outputs": [],
   "source": [
    "neighbors = lambda x,y:list(y[x])"
   ]
  },
  {
   "cell_type": "code",
   "execution_count": 4,
   "metadata": {},
   "outputs": [],
   "source": [
    "def DFS(graph, start, goal):\n",
    "    explored = []# initialize the explored as empty list\n",
    "    frontier = [start] # initializ the frontier as a list with the start state \n",
    "    print('searching from: {} to {}'.format(start, goal))\n",
    "    while frontier: #repeat while frontier is not empty\n",
    "        #print('Frontier:', frontier) \n",
    "        state = frontier.pop()\n",
    "        print('Now in:', state) # print the current state\n",
    "        explored.append(state)\n",
    "        \n",
    "        if goal_test(state,goal): \n",
    "            print('Desitnation reached')\n",
    "            return state\n",
    "        \n",
    "        \n",
    "        childern = neighbors(state,pakistan)\n",
    "        #print(childern)\n",
    "            #add those neighbors of the current state into the frontier which are not explored and frontier\n",
    "            #add your code here!\n",
    "        for child in childern:\n",
    "            if child not in explored and child not in frontier:\n",
    "                frontier.append(child)\n",
    "                \n",
    "    print('failure')        \n",
    " "
   ]
  },
  {
   "cell_type": "code",
   "execution_count": 5,
   "metadata": {},
   "outputs": [
    {
     "name": "stdout",
     "output_type": "stream",
     "text": [
      "searching from: Abbottabad to Besham\n",
      "Now in: Abbottabad\n",
      "Now in: Haripur\n",
      "Now in: Hassan Abdal\n",
      "Now in: Taxila\n",
      "Now in: Rawalpindi\n",
      "Now in: Islamabad\n",
      "Now in: Jehangira\n",
      "Now in: Nowshera\n",
      "Now in: Peshawar\n",
      "Now in: Swabi\n",
      "Now in: Muree\n",
      "Now in: Muzzafar Abad\n",
      "Now in: Attar Shisha\n",
      "Now in: Naran\n",
      "Now in: Chilas\n",
      "Now in: Gilgit\n",
      "Now in: Besham\n",
      "Desitnation reached\n"
     ]
    },
    {
     "data": {
      "text/plain": [
       "'Besham'"
      ]
     },
     "execution_count": 5,
     "metadata": {},
     "output_type": "execute_result"
    }
   ],
   "source": [
    "DFS(pakistan, 'Abbottabad', 'Besham')"
   ]
  },
  {
   "cell_type": "code",
   "execution_count": null,
   "metadata": {},
   "outputs": [],
   "source": []
  }
 ],
 "metadata": {
  "kernelspec": {
   "display_name": "Python 3",
   "language": "python",
   "name": "python3"
  },
  "language_info": {
   "codemirror_mode": {
    "name": "ipython",
    "version": 3
   },
   "file_extension": ".py",
   "mimetype": "text/x-python",
   "name": "python",
   "nbconvert_exporter": "python",
   "pygments_lexer": "ipython3",
   "version": "3.6.4"
  }
 },
 "nbformat": 4,
 "nbformat_minor": 2
}
